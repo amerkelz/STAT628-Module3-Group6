{
 "cells": [
  {
   "cell_type": "markdown",
   "id": "3e8057e8",
   "metadata": {},
   "source": [
    "#  1. DataProcessing & Explore"
   ]
  },
  {
   "cell_type": "code",
   "execution_count": 1,
   "id": "f410679f",
   "metadata": {
    "tags": []
   },
   "outputs": [
    {
     "name": "stderr",
     "output_type": "stream",
     "text": [
      "C:\\Users\\armer\\AppData\\Local\\Temp\\ipykernel_20880\\1997709344.py:2: DtypeWarning: Columns (36,38,39,54,56,57,62,63,64) have mixed types. Specify dtype option on import or set low_memory=False.\n",
      "  flights_data=pd.read_csv(\"flight_weather.csv\")\n"
     ]
    }
   ],
   "source": [
    "import pandas as pd\n",
    "flights_data=pd.read_csv(\"flight_weather.csv\")"
   ]
  },
  {
   "cell_type": "markdown",
   "id": "ecdc8dd5",
   "metadata": {},
   "source": [
    "### Airports cancellation rates"
   ]
  },
  {
   "cell_type": "code",
   "execution_count": 2,
   "id": "4c9506a2-4193-40c9-b2fd-c86f8c8086e4",
   "metadata": {
    "tags": []
   },
   "outputs": [
    {
     "data": {
      "text/html": [
       "<div>\n",
       "<style scoped>\n",
       "    .dataframe tbody tr th:only-of-type {\n",
       "        vertical-align: middle;\n",
       "    }\n",
       "\n",
       "    .dataframe tbody tr th {\n",
       "        vertical-align: top;\n",
       "    }\n",
       "\n",
       "    .dataframe thead th {\n",
       "        text-align: right;\n",
       "    }\n",
       "</style>\n",
       "<table border=\"1\" class=\"dataframe\">\n",
       "  <thead>\n",
       "    <tr style=\"text-align: right;\">\n",
       "      <th></th>\n",
       "      <th>DayOfWeek</th>\n",
       "      <th>FlightDate</th>\n",
       "      <th>Marketing_Airline_Network</th>\n",
       "      <th>Origin</th>\n",
       "      <th>Dest</th>\n",
       "      <th>CRSDepTime</th>\n",
       "      <th>DepTime</th>\n",
       "      <th>DepDelay</th>\n",
       "      <th>CRSArrTime</th>\n",
       "      <th>ArrTime</th>\n",
       "      <th>...</th>\n",
       "      <th>HourlyWindDirection_ORIGIN</th>\n",
       "      <th>HourlyWindSpeed_ORIGIN</th>\n",
       "      <th>REPORT_TYPE_ORIGIN</th>\n",
       "      <th>AIRPORT_CODE_ORIGIN</th>\n",
       "      <th>TIME_ORIGIN</th>\n",
       "      <th>HOUR_ORIGIN</th>\n",
       "      <th>DailySnowDepth_ORIGIN</th>\n",
       "      <th>DailySnowfall_ORIGIN</th>\n",
       "      <th>DailySnowDepth_DEST</th>\n",
       "      <th>DailySnowfall_DEST</th>\n",
       "    </tr>\n",
       "  </thead>\n",
       "  <tbody>\n",
       "    <tr>\n",
       "      <th>0</th>\n",
       "      <td>4</td>\n",
       "      <td>2018-11-15</td>\n",
       "      <td>DL</td>\n",
       "      <td>BDL</td>\n",
       "      <td>RDU</td>\n",
       "      <td>600</td>\n",
       "      <td>600.0</td>\n",
       "      <td>0.0</td>\n",
       "      <td>750</td>\n",
       "      <td>800.0</td>\n",
       "      <td>...</td>\n",
       "      <td>10.0</td>\n",
       "      <td>2.6</td>\n",
       "      <td>FM-15</td>\n",
       "      <td>BDL</td>\n",
       "      <td>651</td>\n",
       "      <td>600</td>\n",
       "      <td>0.0</td>\n",
       "      <td>193.0</td>\n",
       "      <td>0.0</td>\n",
       "      <td>0.0</td>\n",
       "    </tr>\n",
       "    <tr>\n",
       "      <th>1</th>\n",
       "      <td>4</td>\n",
       "      <td>2018-11-15</td>\n",
       "      <td>AA</td>\n",
       "      <td>BDL</td>\n",
       "      <td>MIA</td>\n",
       "      <td>618</td>\n",
       "      <td>615.0</td>\n",
       "      <td>-3.0</td>\n",
       "      <td>939</td>\n",
       "      <td>929.0</td>\n",
       "      <td>...</td>\n",
       "      <td>10.0</td>\n",
       "      <td>2.6</td>\n",
       "      <td>FM-15</td>\n",
       "      <td>BDL</td>\n",
       "      <td>651</td>\n",
       "      <td>600</td>\n",
       "      <td>0.0</td>\n",
       "      <td>193.0</td>\n",
       "      <td>0</td>\n",
       "      <td>0</td>\n",
       "    </tr>\n",
       "    <tr>\n",
       "      <th>2</th>\n",
       "      <td>4</td>\n",
       "      <td>2018-11-15</td>\n",
       "      <td>AA</td>\n",
       "      <td>BDL</td>\n",
       "      <td>CLT</td>\n",
       "      <td>609</td>\n",
       "      <td>602.0</td>\n",
       "      <td>-7.0</td>\n",
       "      <td>826</td>\n",
       "      <td>824.0</td>\n",
       "      <td>...</td>\n",
       "      <td>10.0</td>\n",
       "      <td>2.6</td>\n",
       "      <td>FM-15</td>\n",
       "      <td>BDL</td>\n",
       "      <td>651</td>\n",
       "      <td>600</td>\n",
       "      <td>0.0</td>\n",
       "      <td>193.0</td>\n",
       "      <td>0.0</td>\n",
       "      <td>0.0</td>\n",
       "    </tr>\n",
       "    <tr>\n",
       "      <th>3</th>\n",
       "      <td>4</td>\n",
       "      <td>2018-11-15</td>\n",
       "      <td>DL</td>\n",
       "      <td>BDL</td>\n",
       "      <td>ATL</td>\n",
       "      <td>600</td>\n",
       "      <td>559.0</td>\n",
       "      <td>-1.0</td>\n",
       "      <td>841</td>\n",
       "      <td>832.0</td>\n",
       "      <td>...</td>\n",
       "      <td>10.0</td>\n",
       "      <td>2.6</td>\n",
       "      <td>FM-15</td>\n",
       "      <td>BDL</td>\n",
       "      <td>651</td>\n",
       "      <td>600</td>\n",
       "      <td>0.0</td>\n",
       "      <td>193.0</td>\n",
       "      <td>0.0</td>\n",
       "      <td>0.0</td>\n",
       "    </tr>\n",
       "    <tr>\n",
       "      <th>4</th>\n",
       "      <td>4</td>\n",
       "      <td>2018-11-15</td>\n",
       "      <td>UA</td>\n",
       "      <td>BDL</td>\n",
       "      <td>ORD</td>\n",
       "      <td>630</td>\n",
       "      <td>626.0</td>\n",
       "      <td>-4.0</td>\n",
       "      <td>808</td>\n",
       "      <td>814.0</td>\n",
       "      <td>...</td>\n",
       "      <td>10.0</td>\n",
       "      <td>2.6</td>\n",
       "      <td>FM-15</td>\n",
       "      <td>BDL</td>\n",
       "      <td>651</td>\n",
       "      <td>600</td>\n",
       "      <td>0.0</td>\n",
       "      <td>193.0</td>\n",
       "      <td>0.0</td>\n",
       "      <td>28.0</td>\n",
       "    </tr>\n",
       "  </tbody>\n",
       "</table>\n",
       "<p>5 rows × 66 columns</p>\n",
       "</div>"
      ],
      "text/plain": [
       "   DayOfWeek  FlightDate Marketing_Airline_Network Origin Dest  CRSDepTime  \\\n",
       "0          4  2018-11-15                        DL    BDL  RDU         600   \n",
       "1          4  2018-11-15                        AA    BDL  MIA         618   \n",
       "2          4  2018-11-15                        AA    BDL  CLT         609   \n",
       "3          4  2018-11-15                        DL    BDL  ATL         600   \n",
       "4          4  2018-11-15                        UA    BDL  ORD         630   \n",
       "\n",
       "   DepTime  DepDelay  CRSArrTime  ArrTime  ...  HourlyWindDirection_ORIGIN  \\\n",
       "0    600.0       0.0         750    800.0  ...                        10.0   \n",
       "1    615.0      -3.0         939    929.0  ...                        10.0   \n",
       "2    602.0      -7.0         826    824.0  ...                        10.0   \n",
       "3    559.0      -1.0         841    832.0  ...                        10.0   \n",
       "4    626.0      -4.0         808    814.0  ...                        10.0   \n",
       "\n",
       "   HourlyWindSpeed_ORIGIN REPORT_TYPE_ORIGIN  AIRPORT_CODE_ORIGIN  \\\n",
       "0                     2.6              FM-15                  BDL   \n",
       "1                     2.6              FM-15                  BDL   \n",
       "2                     2.6              FM-15                  BDL   \n",
       "3                     2.6              FM-15                  BDL   \n",
       "4                     2.6              FM-15                  BDL   \n",
       "\n",
       "   TIME_ORIGIN  HOUR_ORIGIN  DailySnowDepth_ORIGIN  DailySnowfall_ORIGIN  \\\n",
       "0          651          600                    0.0                 193.0   \n",
       "1          651          600                    0.0                 193.0   \n",
       "2          651          600                    0.0                 193.0   \n",
       "3          651          600                    0.0                 193.0   \n",
       "4          651          600                    0.0                 193.0   \n",
       "\n",
       "   DailySnowDepth_DEST  DailySnowfall_DEST  \n",
       "0                  0.0                 0.0  \n",
       "1                    0                   0  \n",
       "2                  0.0                 0.0  \n",
       "3                  0.0                 0.0  \n",
       "4                  0.0                28.0  \n",
       "\n",
       "[5 rows x 66 columns]"
      ]
     },
     "execution_count": 2,
     "metadata": {},
     "output_type": "execute_result"
    }
   ],
   "source": [
    "flights_data.head()"
   ]
  },
  {
   "cell_type": "code",
   "execution_count": null,
   "id": "b597a89d-18fb-4362-b8a6-e53005a158fc",
   "metadata": {
    "tags": []
   },
   "outputs": [],
   "source": []
  },
  {
   "cell_type": "code",
   "execution_count": 51,
   "id": "1ae7c50e",
   "metadata": {
    "tags": []
   },
   "outputs": [],
   "source": [
    "airport_cancelled_rate = flights_data.groupby('Origin')['Cancelled'].mean()"
   ]
  },
  {
   "cell_type": "code",
   "execution_count": 54,
   "id": "a79c7667",
   "metadata": {
    "tags": []
   },
   "outputs": [
    {
     "data": {
      "text/plain": [
       "Origin\n",
       "SJU    0.005430\n",
       "SLC    0.008291\n",
       "KOA    0.009786\n",
       "ATL    0.010041\n",
       "HNL    0.011333\n",
       "         ...   \n",
       "ALB    0.031262\n",
       "PWM    0.031335\n",
       "GRR    0.033625\n",
       "MDW    0.043387\n",
       "BUF    0.046688\n",
       "Name: Cancelled, Length: 101, dtype: float64"
      ]
     },
     "execution_count": 54,
     "metadata": {},
     "output_type": "execute_result"
    }
   ],
   "source": [
    "airport_cancelled_rate.sort_values()"
   ]
  },
  {
   "cell_type": "code",
   "execution_count": 5,
   "id": "be2ff152",
   "metadata": {
    "tags": []
   },
   "outputs": [
    {
     "data": {
      "image/png": "[encoded data removed]",
      "text/plain": [
       "<Figure size 1000x600 with 1 Axes>"
      ]
     },
     "metadata": {},
     "output_type": "display_data"
    }
   ],
   "source": [
    "import matplotlib.pyplot as plt\n",
    "import seaborn as sns\n",
    "plt.figure(figsize=(10, 6))\n",
    "sns.histplot(airport_cancelled_rate, kde=True, bins=20)\n",
    "plt.title(\"Distribution of Airport Cancellation Rates\")\n",
    "plt.xlabel(\"Cancellation Rate\")\n",
    "plt.ylabel(\"Frequency\")\n",
    "plt.show()\n"
   ]
  },
  {
   "cell_type": "markdown",
   "id": "b7b430ab",
   "metadata": {},
   "source": [
    "### Airline cancellation rates - exclude 22-23 Holiday Season"
   ]
  },
  {
   "cell_type": "code",
   "execution_count": 26,
   "id": "5f717c5c-9557-4c97-afd8-6ff0a04fae5d",
   "metadata": {
    "tags": []
   },
   "outputs": [
    {
     "name": "stdout",
     "output_type": "stream",
     "text": [
      "AA    1396420\n",
      "WN    1249593\n",
      "DL    1162508\n",
      "UA    1034482\n",
      "AS     307006\n",
      "B6     242611\n",
      "NK     187993\n",
      "F9     126477\n",
      "HA      66999\n",
      "G4      41229\n",
      "Name: Marketing_Airline_Network, dtype: int64\n"
     ]
    },
    {
     "name": "stderr",
     "output_type": "stream",
     "text": [
      "C:\\Users\\armer\\AppData\\Local\\Temp\\ipykernel_20880\\835237960.py:7: SettingWithCopyWarning: \n",
      "A value is trying to be set on a copy of a slice from a DataFrame.\n",
      "Try using .loc[row_indexer,col_indexer] = value instead\n",
      "\n",
      "See the caveats in the documentation: https://pandas.pydata.org/pandas-docs/stable/user_guide/indexing.html#returning-a-view-versus-a-copy\n",
      "  flights_not_22['Cancelled'] = pd.to_numeric(flights_not_22['Cancelled'], errors='coerce')\n"
     ]
    },
    {
     "name": "stdout",
     "output_type": "stream",
     "text": [
      "Marketing_Airline_Network\n",
      "AA    0.016320\n",
      "AS    0.024563\n",
      "B6    0.018441\n",
      "DL    0.009620\n",
      "F9    0.012081\n",
      "G4    0.020350\n",
      "HA    0.008493\n",
      "NK    0.012506\n",
      "UA    0.022941\n",
      "WN    0.017599\n",
      "Name: Cancelled, dtype: float64\n",
      "overall cancelled rate: 0.01667974133142848\n"
     ]
    }
   ],
   "source": [
    "#use YearMonth during airline analysis to exclude 2022-23 holiday season\n",
    "flights_data['YearMonth'] = [x[0:7] for x in flights_data['FlightDate']]\n",
    "flights_not_22 = flights_data[~flights_data['YearMonth'].isin(['2022-11','2022-12','2023-01'])]\n",
    "#we only have 10 airlines, calculate cancelled rate for each airline\n",
    "airline_counts_ex22 = flights_not_22['Marketing_Airline_Network'].value_counts()\n",
    "print(airline_counts_ex22)\n",
    "flights_not_22['Cancelled'] = pd.to_numeric(flights_not_22['Cancelled'], errors='coerce')\n",
    "\n",
    "airline_cancelled_rate_ex22 = flights_not_22.groupby('Marketing_Airline_Network')['Cancelled'].mean()\n",
    "\n",
    "print(airline_cancelled_rate_ex22)\n",
    "print(f\"overall cancelled rate: {flights_not_22['Cancelled'].mean()}\")"
   ]
  },
  {
   "cell_type": "markdown",
   "id": "ec300f5d-17f2-4cb7-9dc9-d1480a0e7124",
   "metadata": {},
   "source": [
    "### Airline cancellation rates - include 22-23 Holiday Season"
   ]
  },
  {
   "cell_type": "code",
   "execution_count": 20,
   "id": "37438945-6d26-46db-9142-c7e08388f7e8",
   "metadata": {
    "tags": []
   },
   "outputs": [
    {
     "name": "stdout",
     "output_type": "stream",
     "text": [
      "AA    1706880\n",
      "AS     378013\n",
      "B6     307713\n",
      "DL    1453813\n",
      "F9     163517\n",
      "G4      52564\n",
      "HA      84082\n",
      "NK     247359\n",
      "UA    1268992\n",
      "WN    1582613\n",
      "Name: Marketing_Airline_Network, dtype: int64\n",
      "Marketing_Airline_Network\n",
      "AA    0.016127\n",
      "AS    0.026211\n",
      "B6    0.017848\n",
      "DL    0.010795\n",
      "F9    0.017111\n",
      "G4    0.021479\n",
      "HA    0.010668\n",
      "NK    0.016446\n",
      "UA    0.021317\n",
      "WN    0.027046\n",
      "Name: Cancelled, dtype: float64\n",
      "overall cancelled rate: 0.018958957682416205\n"
     ]
    }
   ],
   "source": [
    "#we only have 10 airlines, calculate cancelled rate for each airline\n",
    "airline_counts = flights_data['Marketing_Airline_Network'].value_counts()\n",
    "print(airline_counts.sort_index())\n",
    "flights_data['Cancelled'] = pd.to_numeric(flights_data['Cancelled'], errors='coerce')\n",
    "\n",
    "airline_cancelled_rate = flights_data.groupby('Marketing_Airline_Network')['Cancelled'].mean()\n",
    "\n",
    "print(airline_cancelled_rate.sort_index())\n",
    "print(f\"overall cancelled rate: {flights_data['Cancelled'].mean()}\")"
   ]
  },
  {
   "cell_type": "markdown",
   "id": "70a87600-4539-4c47-aee1-55b82cf28201",
   "metadata": {},
   "source": [
    "### Airline cancellation rates - visualization"
   ]
  },
  {
   "cell_type": "code",
   "execution_count": 25,
   "id": "0d9f5828",
   "metadata": {
    "tags": []
   },
   "outputs": [
    {
     "name": "stdout",
     "output_type": "stream",
     "text": [
      "  Airline  Flights  Cancelled_Rate\n",
      "0      AA  1706880        0.016127\n",
      "9      WN  1582613        0.027046\n",
      "3      DL  1453813        0.010795\n",
      "8      UA  1268992        0.021317\n",
      "1      AS   378013        0.026211\n"
     ]
    },
    {
     "data": {
      "image/png": "[encoded data removed]",
      "text/plain": [
       "<Figure size 1000x600 with 2 Axes>"
      ]
     },
     "metadata": {},
     "output_type": "display_data"
    }
   ],
   "source": [
    "import matplotlib.pyplot as plt\n",
    "import seaborn as sns\n",
    "#data - including 22-23 holiday seasson\n",
    "data = {\n",
    "    'Airline' : ['AA','AS','B6','DL','F9','G4','HA','NK','UA','WN'],\n",
    "    'Flights' : list(airline_counts.sort_index()),\n",
    "    'Cancelled_Rate': list(airline_cancelled_rate.sort_index())\n",
    "}\n",
    "\n",
    "data1 = pd.DataFrame(data).sort_values(by=['Flights'],ascending=False)\n",
    "#print(data1.head())\n",
    "fig, ax1 = plt.subplots(figsize=(10, 6))\n",
    "ax2 = ax1.twinx()\n",
    "\n",
    "ax1.bar(data1['Airline'], data1['Flights'], color='lightblue', alpha=0.6, label='Flights')\n",
    "ax2.plot(data1['Airline'], data1['Cancelled_Rate'], color='red', marker='o', label='Cancelled Rate', linestyle='-', linewidth=2)\n",
    "\n",
    "ax1.set_xlabel('Airline')\n",
    "ax1.set_ylabel('Number of Flights', color='blue')\n",
    "ax2.set_ylabel('Cancellation Rate', color='red')\n",
    "plt.title('Airline Flights and Cancellation Rate')# - Excluding 2022-23 Season')\n",
    "\n",
    "ax1.legend(loc='upper left')\n",
    "ax2.legend(loc='upper right')\n",
    "plt.show()"
   ]
  },
  {
   "cell_type": "code",
   "execution_count": 27,
   "id": "4393d66c-cd5a-46e9-add1-bf6ba38a0f65",
   "metadata": {
    "tags": []
   },
   "outputs": [
    {
     "name": "stdout",
     "output_type": "stream",
     "text": [
      "  Airline  Flights  Cancelled_Rate\n",
      "0      AA  1396420        0.016320\n",
      "9      WN  1249593        0.017599\n",
      "3      DL  1162508        0.009620\n",
      "8      UA  1034482        0.022941\n",
      "1      AS   307006        0.024563\n"
     ]
    },
    {
     "data": {
      "image/png": "[encoded data removed]",
      "text/plain": [
       "<Figure size 1000x600 with 2 Axes>"
      ]
     },
     "metadata": {},
     "output_type": "display_data"
    }
   ],
   "source": [
    "import matplotlib.pyplot as plt\n",
    "import seaborn as sns\n",
    "#data - excluding 22-23 holiday seasson\n",
    "data = {\n",
    "    'Airline' : ['AA','AS','B6','DL','F9','G4','HA','NK','UA','WN'],\n",
    "    'Flights' : list(airline_counts_ex22.sort_index()),\n",
    "    'Cancelled_Rate': list(airline_cancelled_rate_ex22.sort_index())\n",
    "}\n",
    "\n",
    "data1 = pd.DataFrame(data).sort_values(by=['Flights'],ascending=False)\n",
    "#print(data1.head())\n",
    "fig, ax1 = plt.subplots(figsize=(10, 6))\n",
    "ax2 = ax1.twinx()\n",
    "\n",
    "ax1.bar(data1['Airline'], data1['Flights'], color='lightblue', alpha=0.6, label='Flights')\n",
    "ax2.plot(data1['Airline'], data1['Cancelled_Rate'], color='red', marker='o', label='Cancelled Rate', linestyle='-', linewidth=2)\n",
    "\n",
    "ax1.set_xlabel('Airline')\n",
    "ax1.set_ylabel('Number of Flights', color='blue')\n",
    "ax2.set_ylabel('Cancellation Rate', color='red')\n",
    "plt.title('Airline Flights and Cancellation Rate - Excluding 2022-23 Season')\n",
    "\n",
    "ax1.legend(loc='upper left')\n",
    "ax2.legend(loc='upper right')\n",
    "plt.show()"
   ]
  },
  {
   "cell_type": "code",
   "execution_count": null,
   "id": "419f2bb8",
   "metadata": {
    "tags": []
   },
   "outputs": [],
   "source": [
    "#ANOVA: significant cancelled rate different between airlines\n",
    "from scipy.stats import f_oneway\n",
    "groups = [flights_data['Cancelled'][flights_data['Marketing_Airline_Network'] == airline] for airline in flights_data['Marketing_Airline_Network'].unique()]\n",
    "# （ANOVA）\n",
    "f_stat, p_value = f_oneway(*groups)\n",
    "print(f\"P-value from ANOVA: {p_value}\")\n",
    "if p_value < 0.05:\n",
    "    print(\"There is a significant difference in cancellation rates among airlines.\")\n",
    "else:\n",
    "    print(\"There is no significant difference in cancellation rates among airlines.\")\n"
   ]
  },
  {
   "cell_type": "markdown",
   "id": "6d06ddbd",
   "metadata": {},
   "source": [
    "### Set 3 cancel rate level , we tried to use it in the model"
   ]
  },
  {
   "cell_type": "code",
   "execution_count": null,
   "id": "ca162cac",
   "metadata": {
    "tags": []
   },
   "outputs": [],
   "source": [
    "import pandas as pd\n",
    "cancel_rate = {\n",
    "    'AA': 0.016106,\n",
    "    'AS': 0.026226,\n",
    "    'B6': 0.017821,\n",
    "    'DL': 0.010810,\n",
    "    'F9': 0.017101,\n",
    "    'G4': 0.020947,\n",
    "    'HA': 0.010668,\n",
    "    'NK': 0.016425,\n",
    "    'UA': 0.021238,\n",
    "    'WN': 0.026851\n",
    "}\n",
    "cancel_rate_df = pd.DataFrame(list(cancel_rate.items()), columns=['Airline', 'CancelRate'])\n",
    "def assign_cancel_level(rate):\n",
    "    if rate <= 0.015:\n",
    "        return 0.1 #\n",
    "    elif rate <= 0.02:\n",
    "        return 0.2 \n",
    "    else:\n",
    "        return 0.3 \n",
    "cancel_rate_df['CancelLevel'] = cancel_rate_df['CancelRate'].apply(assign_cancel_level)\n",
    "print(cancel_rate_df)\n"
   ]
  },
  {
   "cell_type": "code",
   "execution_count": null,
   "id": "d0e0f5c3",
   "metadata": {
    "tags": []
   },
   "outputs": [],
   "source": [
    "flights_data = flights_data.merge(cancel_rate_df[['Airline', 'CancelLevel']], \n",
    "                                  left_on='Marketing_Airline_Network', \n",
    "                                  right_on='Airline', \n",
    "                                  how='left')\n",
    "flights_data = flights_data.drop('Airline', axis=1)\n",
    "print(flights_data.head())\n"
   ]
  },
  {
   "cell_type": "markdown",
   "id": "bfb70013",
   "metadata": {},
   "source": [
    "### Convert datatype & Imputation"
   ]
  },
  {
   "cell_type": "code",
   "execution_count": null,
   "id": "5c0f70e3",
   "metadata": {
    "tags": []
   },
   "outputs": [],
   "source": [
    "#construct 'Hour' and 'Month'\n",
    "flights_data['FlightDate'] = pd.to_datetime(flights_data['FlightDate'])  \n",
    "flights_data['Month'] = flights_data['FlightDate'].dt.month  \n",
    "flights_data['Hour'] = flights_data['CRSDepTime'].astype(str).str.zfill(4).str[:2].astype(int) "
   ]
  },
  {
   "cell_type": "code",
   "execution_count": null,
   "id": "7b17f803",
   "metadata": {
    "tags": []
   },
   "outputs": [],
   "source": [
    "# Fill NaN values in HourlyWindSpeed_ORIGIN column with 0\n",
    "flights_data['HourlyWindSpeed_DEST'] = pd.to_numeric(flights_data['HourlyWindSpeed_DEST'], errors='coerce')\n",
    "flights_data['HourlyWindSpeed_DEST'].fillna(0, inplace=True)\n",
    "flights_data['HourlyWindSpeed_ORIGIN'] = pd.to_numeric(flights_data['HourlyWindSpeed_DEST'], errors='coerce')\n",
    "flights_data['HourlyWindSpeed_ORIGIN'].fillna(0, inplace=True)"
   ]
  },
  {
   "cell_type": "code",
   "execution_count": null,
   "id": "2ba29bdf",
   "metadata": {
    "tags": []
   },
   "outputs": [],
   "source": [
    "#Fill NaN or 'T' in precipitation with 0\n",
    "flights_data['HourlyPrecipitation_DEST'] = pd.to_numeric(flights_data['HourlyPrecipitation_DEST'], errors='coerce')\n",
    "flights_data['HourlyPrecipitation_DEST'].fillna(0, inplace=True)\n",
    "flights_data['HourlyPrecipitation_ORIGIN'] = pd.to_numeric(flights_data['HourlyPrecipitation_ORIGIN'], errors='coerce')\n",
    "flights_data['HourlyPrecipitation_ORIGIN'].fillna(0, inplace=True)"
   ]
  },
  {
   "cell_type": "code",
   "execution_count": null,
   "id": "48b3267b",
   "metadata": {
    "tags": []
   },
   "outputs": [],
   "source": [
    "#Convert Visibility to float type, delete all NaN datapoints(634/46081 total 134863/7154946)\n",
    "flights_data['HourlyVisibility_ORIGIN'] = pd.to_numeric(flights_data['HourlyVisibility_ORIGIN'], errors='coerce')\n",
    "flights_data['Cancelled'] = pd.to_numeric(flights_data['Cancelled'], errors='coerce')\n",
    "print(flights_data['HourlyVisibility_ORIGIN'].isna().sum(), \"NaN values found after conversion.\")\n",
    "print(flights_data[['HourlyVisibility_ORIGIN','Cancelled']][flights_data['HourlyVisibility_ORIGIN'].isna()])\n",
    "sub=flights_data['Cancelled'][flights_data['HourlyVisibility_ORIGIN'].isna()]\n",
    "flights_data = flights_data.dropna(subset=['HourlyVisibility_ORIGIN'])"
   ]
  },
  {
   "cell_type": "code",
   "execution_count": null,
   "id": "4c2ccad9",
   "metadata": {
    "tags": []
   },
   "outputs": [],
   "source": [
    "#Convert Visibility to float type, delete all NaN datapoints(634/46081 total 134863/7154946)\n",
    "flights_data['HourlyVisibility_DEST'] = pd.to_numeric(flights_data['HourlyVisibility_DEST'], errors='coerce')\n",
    "\n",
    "print(flights_data['HourlyVisibility_DEST'].isna().sum(), \"NaN values found after conversion.\")\n",
    "print(flights_data[['HourlyVisibility_DEST','Cancelled']][flights_data['HourlyVisibility_DEST'].isna()])\n",
    "sub=flights_data['Cancelled'][flights_data['HourlyVisibility_DEST'].isna()]\n",
    "flights_data = flights_data.dropna(subset=['HourlyVisibility_DEST'])"
   ]
  },
  {
   "cell_type": "code",
   "execution_count": null,
   "id": "beea3e8c",
   "metadata": {
    "tags": []
   },
   "outputs": [],
   "source": [
    "flights_data['DailySnowDepth_DEST'] = pd.to_numeric(flights_data['DailySnowDepth_DEST'], errors='coerce').fillna(0)\n",
    "flights_data['DailySnowfall_DEST'] = pd.to_numeric(flights_data['DailySnowfall_DEST'], errors='coerce').fillna(0)\n",
    "print(\"DailySnowDepth_DEST distribution:\")\n",
    "print(flights_data['DailySnowDepth_DEST'].describe())\n",
    "print(\"\\nDailySnowfall_DEST distribution:\")\n",
    "print(flights_data['DailySnowfall_DEST'].describe())\n",
    "\n",
    "print(\"\\nDailySnowDepth_DEST value counts:\")\n",
    "print(flights_data['DailySnowDepth_DEST'].value_counts().head(10)) \n",
    "\n",
    "print(\"\\nDailySnowfall_DEST value counts:\")\n",
    "print(flights_data['DailySnowfall_DEST'].value_counts().head(10))  \n"
   ]
  },
  {
   "cell_type": "code",
   "execution_count": null,
   "id": "818b2d65",
   "metadata": {
    "tags": []
   },
   "outputs": [],
   "source": [
    "flights_data['DailySnowDepth_ORIGIN'] = pd.to_numeric(flights_data['DailySnowDepth_ORIGIN'], errors='coerce').fillna(0)\n",
    "flights_data['DailySnowfall_ORIGIN'] = pd.to_numeric(flights_data['DailySnowfall_ORIGIN'], errors='coerce').fillna(0)\n",
    "print(\"DailySnowDepth_DEST distribution:\")\n",
    "print(flights_data['DailySnowDepth_ORIGIN'].describe())\n",
    "print(\"\\nDailySnowfall_DEST distribution:\")\n",
    "print(flights_data['DailySnowfall_ORIGIN'].describe())\n",
    "print(\"\\nDailySnowDepth_DEST value counts:\")\n",
    "print(flights_data['DailySnowDepth_ORIGIN'].value_counts().head(10)) \n",
    "print(\"\\nDailySnowfall_DEST value counts:\")\n",
    "print(flights_data['DailySnowfall_ORIGIN'].value_counts().head(10)) "
   ]
  },
  {
   "cell_type": "code",
   "execution_count": null,
   "id": "a95c65e7",
   "metadata": {},
   "outputs": [],
   "source": [
    "# try one-hot encoding for airlines\n",
    "#airline_dummies = pd.get_dummies(flights_data['Marketing_Airline_Network'], prefix='Airline')\n",
    "#flights_data = pd.concat([flights_data, airline_dummies], axis=1)\n",
    "#flights_data = flights_data.drop('Marketing_Airline_Network', axis=1)\n"
   ]
  },
  {
   "cell_type": "markdown",
   "id": "02564764",
   "metadata": {},
   "source": [
    "#  2.Model"
   ]
  },
  {
   "cell_type": "code",
   "execution_count": null,
   "id": "0c709bad",
   "metadata": {},
   "outputs": [],
   "source": [
    "#pip install imbalanced-learn #run if not already installed\n"
   ]
  },
  {
   "cell_type": "code",
   "execution_count": null,
   "id": "9103ee6f",
   "metadata": {},
   "outputs": [],
   "source": [
    "#conda install -c conda-forge imbalanced-learn #run if not already installed\n"
   ]
  },
  {
   "cell_type": "markdown",
   "id": "4c4c9091",
   "metadata": {},
   "source": [
    "## 2.1 Cancellation model"
   ]
  },
  {
   "cell_type": "markdown",
   "id": "b072b6da",
   "metadata": {},
   "source": [
    "### Logistic Regression"
   ]
  },
  {
   "cell_type": "markdown",
   "id": "1f87ac1a",
   "metadata": {},
   "source": [
    "We've tried different predictors and thresholds. To make it concise, we only show our final model here.\n",
    "The final model is using 'Month','Visibility at origin','WindSpeed at destination','SnowDepth at origin','SnowDepth at destination' as predictors. Visibility and WindSpeed are set to 3 catagories and SnowDepth is set to 2 catagories. "
   ]
  },
  {
   "cell_type": "code",
   "execution_count": null,
   "id": "631c013d-691f-4e33-b311-94ff58267ab4",
   "metadata": {
    "tags": []
   },
   "outputs": [],
   "source": [
    "import numpy as np\n",
    "from sklearn.linear_model import LogisticRegression\n",
    "from sklearn.model_selection import train_test_split\n",
    "from sklearn.metrics import recall_score, accuracy_score, f1_score, roc_auc_score, precision_score\n",
    "\n",
    "#target_airlines = ['AA', 'WN', 'DL', 'UA']\n",
    "flights_data_filtered = flights_data#[flights_data['Marketing_Airline_Network'].isin(target_airlines)]\n",
    "\n",
    "cancelled = flights_data_filtered[flights_data_filtered['Cancelled'] == 1]\n",
    "cancelled = cancelled[cancelled['CancellationCode']=='B']\n",
    "not_cancelled = flights_data_filtered[flights_data_filtered['Cancelled'] == 0].sample(len(cancelled), random_state=42)\n",
    "flights_data_balanced = pd.concat([cancelled, not_cancelled])\n",
    "\n",
    "X_base = flights_data_balanced[['Month']]\n",
    "y = flights_data_balanced['Cancelled']\n",
    "best_threshold = None\n",
    "best_recall = -10\n",
    "\n",
    "def categorize_visibility(vis):\n",
    "    if vis > 16:\n",
    "        return 0\n",
    "    elif vis > 6:\n",
    "        return 1\n",
    "    else:\n",
    "        return 2\n",
    "\n",
    "def categorize_wind_speed(wind):\n",
    "    if wind < 4:#this threshold is decided after testing different thresholds\n",
    "        return 0\n",
    "    elif wind < 10:\n",
    "        return 1\n",
    "    else:\n",
    "        return 2\n",
    "def categorize_snow_fall(snow):\n",
    "    if snow <=0:\n",
    "        return 0 \n",
    "    else:\n",
    "        return 1\n",
    "\n",
    "flights_data_balanced['Vis_ORIGIN_category'] = flights_data_balanced['HourlyVisibility_ORIGIN'].apply(categorize_visibility)\n",
    "flights_data_balanced['Wind_DEST_category'] = flights_data_balanced['HourlyWindSpeed_DEST'].apply(categorize_wind_speed)\n",
    "flights_data_balanced['Snow_DEST_category'] = flights_data_balanced['DailySnowfall_DEST'].apply(categorize_snow_fall)\n",
    "flights_data_balanced['Snow_ORIGIN_category'] = flights_data_balanced['DailySnowfall_ORIGIN'].apply(categorize_snow_fall)\n",
    "X = X_base.copy()\n",
    "X['Vis_ORIGIN_category'] = flights_data_balanced['Vis_ORIGIN_category']\n",
    "X['Wind_DEST_category'] = flights_data_balanced['Wind_DEST_category']\n",
    "X['Snow_ORIGIN_category'] = flights_data_balanced['Snow_ORIGIN_category']\n",
    "X['Snow_DEST_category'] = flights_data_balanced['Snow_DEST_category']\n",
    "X_train, X_test, y_train, y_test = train_test_split(X, y, test_size=0.2, random_state=42)\n",
    "\n",
    "model = LogisticRegression(class_weight='balanced')\n",
    "model.fit(X_train, y_train)\n",
    "\n",
    "y_prob = model.predict_proba(X_test)[:, 1]\n",
    "custom_threshold = 0.46# we also adjust the threshold of Logistic regression to get the best recall &accuracy\n",
    "y_pred_custom = (y_prob >= custom_threshold).astype(int)\n",
    "\n",
    "recall = recall_score(y_test, y_pred_custom)\n",
    "accuracy = accuracy_score(y_test, y_pred_custom)\n",
    "precision = precision_score(y_test, y_pred_custom)\n",
    "f1 = f1_score(y_test, y_pred_custom)\n",
    "roc_auc = roc_auc_score(y_test, y_prob)\n",
    "\n",
    "print(f\"recall: {recall}, accuracy: {accuracy}, precision: {precision}, f1_score: {f1}, roc_auc: {roc_auc}\")"
   ]
  },
  {
   "cell_type": "code",
   "execution_count": null,
   "id": "5a6ec991-ff79-460e-b1d4-2743e3cb2344",
   "metadata": {
    "tags": []
   },
   "outputs": [],
   "source": [
    "#review order of X cols to check model_predict.py functions\n",
    "X_train.head()"
   ]
  },
  {
   "cell_type": "markdown",
   "id": "808dbf33-f336-4e09-a0c0-bdaa613e01f9",
   "metadata": {
    "tags": []
   },
   "source": [
    "##### Save Cancellation Model to pickle file"
   ]
  },
  {
   "cell_type": "code",
   "execution_count": null,
   "id": "ea04e098-f19a-481c-a1e5-a8b054a3bb48",
   "metadata": {
    "tags": []
   },
   "outputs": [],
   "source": [
    "#save model to .pkl so it can be used to predict values in Shiny app\n",
    "import pickle\n",
    "with open('cancel_model.pkl','wb') as f:\n",
    "    pickle.dump(model,f)"
   ]
  },
  {
   "cell_type": "markdown",
   "id": "144ec6d8",
   "metadata": {},
   "source": [
    "### \n",
    "### Decision Tree"
   ]
  },
  {
   "cell_type": "code",
   "execution_count": null,
   "id": "987e5def",
   "metadata": {
    "tags": []
   },
   "outputs": [],
   "source": [
    "from sklearn.tree import DecisionTreeClassifier\n",
    "tree_model = DecisionTreeClassifier(class_weight='balanced', random_state=42)\n",
    "tree_model.fit(X_train, y_train)\n",
    "\n",
    "y_tree_pred = tree_model.predict(X_test)\n",
    "tree_recall = recall_score(y_test, y_tree_pred, average='macro')\n",
    "tree_accuracy = accuracy_score(y_test, y_tree_pred)\n",
    "tree_precision = precision_score(y_test, y_tree_pred, average='macro')\n",
    "tree_f1 = f1_score(y_test, y_tree_pred, average='macro')\n",
    "\n",
    "print(f\"Decision Tree - Recall: {tree_recall}, Accuracy: {tree_accuracy}, Precision: {tree_precision}, F1 Score: {tree_f1}\")\n"
   ]
  },
  {
   "cell_type": "code",
   "execution_count": null,
   "id": "831a2291-c6b0-410d-a1bd-90576aae2ff4",
   "metadata": {
    "tags": []
   },
   "outputs": [],
   "source": [
    "import matplotlib.pyplot as plt\n",
    "import seaborn as sns\n",
    "\n",
    "cancelled_flights = flights_data[flights_data['Cancelled'] == 1]\n",
    "\n",
    "\n",
    "plt.figure(figsize=(10, 6))\n",
    "sns.histplot(cancelled_flights['HourlyVisibility_ORIGIN'], bins=30, kde=True)\n",
    "plt.title('Visibility Distribution for Cancelled Flights')\n",
    "plt.xlabel('Hourly Visibility at Origin (miles)')\n",
    "plt.ylabel('Frequency')\n",
    "plt.show()\n",
    "\n",
    "\n",
    "plt.figure(figsize=(10, 6))\n",
    "sns.boxplot(x='Cancelled', y='HourlyVisibility_ORIGIN', data=flights_data)\n",
    "plt.title('Visibility Comparison for Cancelled and Non-cancelled Flights')\n",
    "plt.xlabel('Cancelled (1 = Yes, 0 = No)')\n",
    "plt.ylabel('Hourly Visibility at Origin (miles)')\n",
    "plt.show()"
   ]
  },
  {
   "cell_type": "markdown",
   "id": "9165d779",
   "metadata": {},
   "source": [
    "## 2.2 Delay model"
   ]
  },
  {
   "cell_type": "markdown",
   "id": "81f55368",
   "metadata": {},
   "source": [
    "prepare the delay dataset"
   ]
  },
  {
   "cell_type": "code",
   "execution_count": 44,
   "id": "4e4bbe52",
   "metadata": {
    "tags": []
   },
   "outputs": [],
   "source": [
    "#exclude canceled flights\n",
    "flights_delay= flights_data.dropna(subset=['ArrDelay'])"
   ]
  },
  {
   "cell_type": "code",
   "execution_count": 45,
   "id": "df684cea",
   "metadata": {
    "tags": []
   },
   "outputs": [
    {
     "name": "stderr",
     "output_type": "stream",
     "text": [
      "C:\\Users\\armer\\AppData\\Local\\Temp\\ipykernel_20880\\4115167088.py:1: SettingWithCopyWarning: \n",
      "A value is trying to be set on a copy of a slice from a DataFrame.\n",
      "Try using .loc[row_indexer,col_indexer] = value instead\n",
      "\n",
      "See the caveats in the documentation: https://pandas.pydata.org/pandas-docs/stable/user_guide/indexing.html#returning-a-view-versus-a-copy\n",
      "  flights_delay['ArrDelay'] = pd.to_numeric(flights_delay['ArrDelay'], errors='coerce')\n"
     ]
    }
   ],
   "source": [
    "flights_delay['ArrDelay'] = pd.to_numeric(flights_delay['ArrDelay'], errors='coerce')"
   ]
  },
  {
   "cell_type": "code",
   "execution_count": null,
   "id": "031f65a4",
   "metadata": {},
   "outputs": [],
   "source": [
    "\n",
    "#flights_delay['CarrierDelay'] = pd.to_numeric(flights_delay['CarrierDelay'], errors='coerce')\n",
    "#flights_delay['WeatherDelay'] = pd.to_numeric(flights_delay['CarrierDelay'], errors='coerce')\n",
    "#flights_delay['NASDelay'] = pd.to_numeric(flights_delay['CarrierDelay'], errors='coerce')\n",
    "f#lights_delay['SecurityDelay'] = pd.to_numeric(flights_delay['CarrierDelay'], errors='coerce')"
   ]
  },
  {
   "cell_type": "code",
   "execution_count": null,
   "id": "728cb503",
   "metadata": {},
   "outputs": [],
   "source": [
    "#flights_delay['WeatherDelay'].fillna(0, inplace=True)"
   ]
  },
  {
   "cell_type": "code",
   "execution_count": 46,
   "id": "33defe86",
   "metadata": {
    "tags": []
   },
   "outputs": [
    {
     "name": "stderr",
     "output_type": "stream",
     "text": [
      "C:\\Users\\armer\\AppData\\Local\\Temp\\ipykernel_20880\\273410568.py:1: SettingWithCopyWarning: \n",
      "A value is trying to be set on a copy of a slice from a DataFrame.\n",
      "Try using .loc[row_indexer,col_indexer] = value instead\n",
      "\n",
      "See the caveats in the documentation: https://pandas.pydata.org/pandas-docs/stable/user_guide/indexing.html#returning-a-view-versus-a-copy\n",
      "  flights_delay['AirTime'] = pd.to_numeric(flights_delay['AirTime'], errors='coerce')\n",
      "C:\\Users\\armer\\AppData\\Local\\Temp\\ipykernel_20880\\273410568.py:2: SettingWithCopyWarning: \n",
      "A value is trying to be set on a copy of a slice from a DataFrame.\n",
      "Try using .loc[row_indexer,col_indexer] = value instead\n",
      "\n",
      "See the caveats in the documentation: https://pandas.pydata.org/pandas-docs/stable/user_guide/indexing.html#returning-a-view-versus-a-copy\n",
      "  flights_delay['Distance'] = pd.to_numeric(flights_delay['Distance'], errors='coerce')\n"
     ]
    }
   ],
   "source": [
    "flights_delay['AirTime'] = pd.to_numeric(flights_delay['AirTime'], errors='coerce')\n",
    "flights_delay['Distance'] = pd.to_numeric(flights_delay['Distance'], errors='coerce')"
   ]
  },
  {
   "cell_type": "code",
   "execution_count": 47,
   "id": "6799a06c",
   "metadata": {
    "tags": []
   },
   "outputs": [
    {
     "name": "stderr",
     "output_type": "stream",
     "text": [
      "C:\\Users\\armer\\AppData\\Local\\Temp\\ipykernel_20880\\1811638034.py:8: SettingWithCopyWarning: \n",
      "A value is trying to be set on a copy of a slice from a DataFrame.\n",
      "Try using .loc[row_indexer,col_indexer] = value instead\n",
      "\n",
      "See the caveats in the documentation: https://pandas.pydata.org/pandas-docs/stable/user_guide/indexing.html#returning-a-view-versus-a-copy\n",
      "  flights_delay['delay_category'] = flights_delay['ArrDelay'].apply(convert_delay_to_category)\n"
     ]
    }
   ],
   "source": [
    "def convert_delay_to_category(delay):\n",
    "    if delay <= 0:\n",
    "        return 0\n",
    "    elif delay < 60:\n",
    "        return 1\n",
    "    else:  # delay >= 60\n",
    "        return 2\n",
    "flights_delay['delay_category'] = flights_delay['ArrDelay'].apply(convert_delay_to_category)"
   ]
  },
  {
   "cell_type": "markdown",
   "id": "559471ad-f9bf-43eb-b2cc-d2d1699c46bf",
   "metadata": {},
   "source": [
    "### Flight Delays by Airline - visualization"
   ]
  },
  {
   "cell_type": "code",
   "execution_count": 48,
   "id": "059d1d73-35ec-4618-a8ec-0b0ff1c300b5",
   "metadata": {
    "tags": []
   },
   "outputs": [
    {
     "name": "stdout",
     "output_type": "stream",
     "text": [
      "AA    1676271\n",
      "WN    1537669\n",
      "DL    1435810\n",
      "UA    1239566\n",
      "AS     366862\n",
      "B6     301311\n",
      "NK     243032\n",
      "F9     160546\n",
      "HA      83073\n",
      "G4      51308\n",
      "Name: Marketing_Airline_Network, dtype: int64\n",
      "Marketing_Airline_Network\n",
      "AA     4.598431\n",
      "AS     3.759217\n",
      "B6    11.676633\n",
      "DL     0.658917\n",
      "F9    10.207585\n",
      "G4    12.554416\n",
      "HA     5.130307\n",
      "NK     6.568197\n",
      "UA     5.310609\n",
      "WN     2.762572\n",
      "Name: ArrDelay, dtype: float64\n"
     ]
    }
   ],
   "source": [
    "#we only have 10 airlines, calculate cancelled rate for each airline\n",
    "airline_counts_del = flights_delay['Marketing_Airline_Network'].value_counts()\n",
    "print(airline_counts_del)\n",
    "\n",
    "airline_delay_rate = flights_delay.groupby('Marketing_Airline_Network')['ArrDelay'].mean()\n",
    "print(airline_delay_rate)"
   ]
  },
  {
   "cell_type": "code",
   "execution_count": 49,
   "id": "77d38d6b-1f59-449f-b5a4-6ca1916d65b8",
   "metadata": {
    "tags": []
   },
   "outputs": [
    {
     "data": {
      "image/png": "[encoded data removed]",
      "text/plain": [
       "<Figure size 1000x600 with 2 Axes>"
      ]
     },
     "metadata": {},
     "output_type": "display_data"
    }
   ],
   "source": [
    "import matplotlib.pyplot as plt\n",
    "import seaborn as sns\n",
    "#data - including 22-23 holiday seasson\n",
    "data = {\n",
    "    'Airline' : ['AA','AS','B6','DL','F9','G4','HA','NK','UA','WN'],\n",
    "    'Flights' : list(airline_counts_del.sort_index()),\n",
    "    'Average Delay (min)': list(airline_delay_rate.sort_index())\n",
    "}\n",
    "\n",
    "data1 = pd.DataFrame(data).sort_values(by=['Flights'],ascending=False)\n",
    "#print(data1.head())\n",
    "fig, ax1 = plt.subplots(figsize=(10, 6))\n",
    "ax2 = ax1.twinx()\n",
    "\n",
    "ax1.bar(data1['Airline'], data1['Flights'], color='lightblue', alpha=0.6, label='Flights')\n",
    "ax2.plot(data1['Airline'], data1['Average Delay (min)'], color='red', marker='o', label='Average Delay', linestyle='-', linewidth=2)\n",
    "\n",
    "ax1.set_xlabel('Airline')\n",
    "ax1.set_ylabel('Number of Flights', color='blue')\n",
    "ax2.set_ylabel('Average Delay (min)', color='red')\n",
    "plt.title('Airline Flights and Average Delay')# - Excluding 2022-23 Season')\n",
    "\n",
    "ax1.legend(loc='upper left')\n",
    "ax2.legend(loc='upper right')\n",
    "plt.show()"
   ]
  },
  {
   "cell_type": "markdown",
   "id": "bb495898",
   "metadata": {},
   "source": [
    "### prob of flight delays"
   ]
  },
  {
   "cell_type": "markdown",
   "id": "49d8ca4f",
   "metadata": {},
   "source": [
    "Only 35% flights arrive later than expected"
   ]
  },
  {
   "cell_type": "code",
   "execution_count": null,
   "id": "8ba204ed",
   "metadata": {
    "tags": []
   },
   "outputs": [],
   "source": [
    "len(flights_delay['ArrDelay'][flights_delay['ArrDelay']>0])/len(flights_delay['ArrDelay'])"
   ]
  },
  {
   "cell_type": "markdown",
   "id": "e9022da4",
   "metadata": {},
   "source": [
    "Only 18% arrive > 15 min late"
   ]
  },
  {
   "cell_type": "code",
   "execution_count": null,
   "id": "75526f56",
   "metadata": {
    "tags": []
   },
   "outputs": [],
   "source": [
    "len(flights_delay['ArrDelay'][flights_delay['ArrDelay']>15])/len(flights_delay['ArrDelay'])"
   ]
  },
  {
   "cell_type": "markdown",
   "id": "6be77e05",
   "metadata": {},
   "source": [
    "Only 6% arrive >60 min late"
   ]
  },
  {
   "cell_type": "code",
   "execution_count": null,
   "id": "ebe9e8cf",
   "metadata": {
    "tags": []
   },
   "outputs": [],
   "source": [
    "len(flights_delay['ArrDelay'][flights_delay['ArrDelay']>60])/len(flights_delay['ArrDelay'])"
   ]
  },
  {
   "cell_type": "code",
   "execution_count": null,
   "id": "d82f10d0",
   "metadata": {
    "tags": []
   },
   "outputs": [],
   "source": [
    "len(flights_delay['ArrDelay'][flights_delay['ArrDelay']>=300])/len(flights_delay['ArrDelay'])"
   ]
  },
  {
   "cell_type": "markdown",
   "id": "2f92e385",
   "metadata": {},
   "source": [
    "but there are some delayed > 15h +"
   ]
  },
  {
   "cell_type": "code",
   "execution_count": null,
   "id": "eefe7dd6",
   "metadata": {
    "tags": []
   },
   "outputs": [],
   "source": [
    "print(flights_delay[flights_delay['ArrDelay']>=1000])"
   ]
  },
  {
   "cell_type": "code",
   "execution_count": null,
   "id": "f1d9a3a7",
   "metadata": {
    "tags": []
   },
   "outputs": [],
   "source": [
    "sum(flights_delay['ArrDelay'])/len(flights_delay['ArrDelay'])"
   ]
  },
  {
   "cell_type": "markdown",
   "id": "ccd3b28a",
   "metadata": {},
   "source": [
    "On average, flights delayed for 4 min"
   ]
  },
  {
   "cell_type": "code",
   "execution_count": null,
   "id": "1ce6264d",
   "metadata": {
    "tags": []
   },
   "outputs": [],
   "source": [
    "arr_delay_data = flights_data['ArrDelay'].dropna()  \n",
    "\n",
    "plt.figure(figsize=(10, 6))\n",
    "sns.histplot(arr_delay_data, bins=100, kde=True)  \n",
    "plt.xlabel('Arrival Delay (minutes)')\n",
    "plt.ylabel('Frequency')\n",
    "plt.title('Distribution of Arrival Delay (ArrDelay)')\n",
    "plt.xlim(-50, 300)  \n",
    "plt.show()"
   ]
  },
  {
   "cell_type": "markdown",
   "id": "3341e37e",
   "metadata": {},
   "source": [
    "## Model selection"
   ]
  },
  {
   "cell_type": "markdown",
   "id": "276eb36a",
   "metadata": {},
   "source": [
    "###    Logistic Regression"
   ]
  },
  {
   "cell_type": "code",
   "execution_count": null,
   "id": "c6a95aa1-4ae9-44e3-994d-540e831b894c",
   "metadata": {
    "tags": []
   },
   "outputs": [],
   "source": [
    "import numpy as np\n",
    "from sklearn.linear_model import LogisticRegression\n",
    "from sklearn.model_selection import train_test_split\n",
    "from sklearn.metrics import recall_score, accuracy_score, f1_score, precision_score\n",
    "#target_airlines = ['AA', 'WN', 'DL', 'UA']\n",
    "flights_data_filtered = flights_delay#[flights_delay['Marketing_Airline_Network'].isin(target_airlines)]\n",
    "\n",
    "delay2 = flights_data_filtered[flights_data_filtered['delay_category'] == 2]\n",
    "delay1 = flights_data_filtered[flights_data_filtered['delay_category'] == 1].sample(len(delay2), random_state=42)\n",
    "delay0 = flights_data_filtered[flights_data_filtered['delay_category'] == 0].sample(len(delay2), random_state=42)\n",
    "flights_data_balanced = pd.concat([delay0, delay1, delay2])\n",
    "\n",
    "X_base = flights_data_balanced[['Month','Hour']]#,'DaysUntilHol']]\n",
    "y = flights_data_balanced['delay_category']  \n",
    "\n",
    "def categorize_visibility(vis):\n",
    "    if vis > 16:\n",
    "        return 0\n",
    "    elif vis > 6:\n",
    "        return 1\n",
    "    else:\n",
    "        return 2\n",
    "\n",
    "def categorize_wind_speed(wind):\n",
    "    if wind < 4:\n",
    "        return 0\n",
    "    elif wind < 10:\n",
    "        return 1\n",
    "    else:\n",
    "        return 2\n",
    "def categorize_snow_fall(snow):\n",
    "    if snow <= 3:\n",
    "        return 0 \n",
    "    else:\n",
    "        return 1\n",
    "\n",
    "flights_data_balanced['Vis_ORIGIN_category'] = flights_data_balanced['HourlyVisibility_ORIGIN'].apply(categorize_visibility)\n",
    "flights_data_balanced['Wind_DEST_category'] = flights_data_balanced['HourlyWindSpeed_DEST'].apply(categorize_wind_speed)\n",
    "flights_data_balanced['Snow_DEST_category'] = flights_data_balanced['DailySnowfall_DEST'].apply(categorize_snow_fall)\n",
    "#flights_data_balanced['Pre_ORIGIN_category'] = flights_data_balanced['HourlyPrecipitation_ORIGIN'].apply(categorize_snow_fall)\n",
    "flights_data_balanced['Snow_ORIGIN_category'] = flights_data_balanced['DailySnowfall_ORIGIN'].apply(categorize_snow_fall)\n",
    "X = X_base.copy()\n",
    "X['Vis_ORIGIN_category'] = flights_data_balanced['Vis_ORIGIN_category']\n",
    "#X['Pre_ORIGIN_category'] = flights_data_balanced['Pre_ORIGIN_category']\n",
    "X['Wind_DEST_category'] = flights_data_balanced['Wind_DEST_category']\n",
    "X['Snow_ORIGIN_category'] = flights_data_balanced['Snow_ORIGIN_category']\n",
    "X['Snow_DEST_category'] = flights_data_balanced['Snow_DEST_category']\n",
    "\n",
    "\n",
    "X_train, X_test, y_train, y_test = train_test_split(X, y, test_size=0.2, random_state=42)\n",
    "\n",
    "\n",
    "model = LogisticRegression(multi_class='multinomial', solver='lbfgs', class_weight='balanced')\n",
    "model.fit(X_train, y_train)\n",
    "\n",
    "\n",
    "y_pred = model.predict(X_test)\n",
    "\n",
    "recall = recall_score(y_test, y_pred, average='macro')\n",
    "accuracy = accuracy_score(y_test, y_pred)\n",
    "precision = precision_score(y_test, y_pred, average='macro')\n",
    "f1 = f1_score(y_test, y_pred, average='macro')\n",
    "\n",
    "print(f\"Recall: {recall}, Accuracy: {accuracy}, Precision: {precision}, F1 Score: {f1}\")"
   ]
  },
  {
   "cell_type": "code",
   "execution_count": null,
   "id": "337f0a0a-3acc-48a2-ab67-d5764f076efb",
   "metadata": {
    "tags": []
   },
   "outputs": [],
   "source": [
    "#review order of X_train cols to check model_predict.py\n",
    "X_train.head()"
   ]
  },
  {
   "cell_type": "markdown",
   "id": "1969e2de-fa37-43d1-a493-1a722afb269d",
   "metadata": {
    "tags": []
   },
   "source": [
    "##### save delay model to pickle file"
   ]
  },
  {
   "cell_type": "code",
   "execution_count": null,
   "id": "c0aa2eb9-8ba0-4c0a-847c-9ad2cb0f3cc9",
   "metadata": {
    "tags": []
   },
   "outputs": [],
   "source": [
    "#save final selected delay model to .pkl to be used by the Shiny app for prediction"
   ]
  },
  {
   "cell_type": "code",
   "execution_count": null,
   "id": "013cd47e-bf83-4989-aa65-a3f9e7b74818",
   "metadata": {},
   "outputs": [],
   "source": [
    "#save model to .pkl so it can be used to predict values in Shiny app\n",
    "with open('delay_model.pkl','wb') as f:\n",
    "    pickle.dump(model,f)"
   ]
  },
  {
   "cell_type": "markdown",
   "id": "91149522",
   "metadata": {},
   "source": [
    "### Decision Tree"
   ]
  },
  {
   "cell_type": "code",
   "execution_count": null,
   "id": "54692305",
   "metadata": {
    "tags": []
   },
   "outputs": [],
   "source": [
    "from sklearn.tree import DecisionTreeClassifier\n",
    "tree_model = DecisionTreeClassifier(class_weight='balanced', random_state=42)\n",
    "tree_model.fit(X_train, y_train)\n",
    "y_tree_pred = tree_model.predict(X_test)\n",
    "tree_recall = recall_score(y_test, y_tree_pred, average='macro')\n",
    "tree_accuracy = accuracy_score(y_test, y_tree_pred)\n",
    "tree_precision = precision_score(y_test, y_tree_pred, average='macro')\n",
    "tree_f1 = f1_score(y_test, y_tree_pred, average='macro')\n",
    "\n",
    "print(f\"Decision Tree - Recall: {tree_recall}, Accuracy: {tree_accuracy}, Precision: {tree_precision}, F1 Score: {tree_f1}\")\n"
   ]
  },
  {
   "cell_type": "markdown",
   "id": "552d6a3c",
   "metadata": {},
   "source": [
    "### Random Forest"
   ]
  },
  {
   "cell_type": "code",
   "execution_count": null,
   "id": "57eb6b58",
   "metadata": {
    "tags": []
   },
   "outputs": [],
   "source": [
    "from sklearn.ensemble import RandomForestClassifier\n",
    "rf_model = RandomForestClassifier(class_weight='balanced', random_state=42, n_estimators=100)\n",
    "rf_model.fit(X_train, y_train)\n",
    "\n",
    "y_rf_pred = rf_model.predict(X_test)\n",
    "\n",
    "rf_recall = recall_score(y_test, y_rf_pred, average='macro')\n",
    "rf_accuracy = accuracy_score(y_test, y_rf_pred)\n",
    "rf_precision = precision_score(y_test, y_rf_pred, average='macro')\n",
    "rf_f1 = f1_score(y_test, y_rf_pred, average='macro')\n",
    "\n",
    "print(f\"Random Forest - Recall: {rf_recall}, Accuracy: {rf_accuracy}, Precision: {rf_precision}, F1 Score: {rf_f1}\")\n"
   ]
  },
  {
   "cell_type": "markdown",
   "id": "4e115900",
   "metadata": {},
   "source": [
    "### Gradient Boosting Machine"
   ]
  },
  {
   "cell_type": "code",
   "execution_count": null,
   "id": "d4d1bdd2",
   "metadata": {
    "tags": []
   },
   "outputs": [],
   "source": [
    "from sklearn.ensemble import GradientBoostingClassifier\n",
    "gbc_model = GradientBoostingClassifier(random_state=42)\n",
    "gbc_model.fit(X_train, y_train)\n",
    "y_gbc_pred = gbc_model.predict(X_test)\n",
    "\n",
    "gbc_recall = recall_score(y_test, y_gbc_pred, average='macro')\n",
    "gbc_accuracy = accuracy_score(y_test, y_gbc_pred)\n",
    "gbc_precision = precision_score(y_test, y_gbc_pred, average='macro')\n",
    "gbc_f1 = f1_score(y_test, y_gbc_pred, average='macro')\n",
    "\n",
    "print(f\"Gradient Boosting - Recall: {gbc_recall}, Accuracy: {gbc_accuracy}, Precision: {gbc_precision}, F1 Score: {gbc_f1}\")\n"
   ]
  },
  {
   "cell_type": "markdown",
   "id": "8590f322",
   "metadata": {},
   "source": [
    "svm takes really long time to compute"
   ]
  },
  {
   "cell_type": "code",
   "execution_count": null,
   "id": "a19aa8a8",
   "metadata": {
    "tags": []
   },
   "outputs": [],
   "source": [
    "#from sklearn.svm import SVC\n",
    "#svm_model = SVC(kernel='rbf', class_weight='balanced', probability=True)\n",
    "#svm_model.fit(X_train, y_train)\n",
    "#y_svm_pred = svm_model.predict(X_test)\n",
    "#svm_recall = recall_score(y_test, y_svm_pred, average='macro')\n",
    "#svm_accuracy = accuracy_score(y_test, y_svm_pred)\n",
    "#svm_precision = precision_score(y_test, y_svm_pred, average='macro')\n",
    "#svm_f1 = f1_score(y_test, y_svm_pred, average='macro')\n",
    "#print(f\"SVM - Recall: {svm_recall}, Accuracy: {svm_accuracy}, Precision: {svm_precision}, F1 Score: {svm_f1}\")\n"
   ]
  }
 ],
 "metadata": {
  "kernelspec": {
   "display_name": "Python 3 (ipykernel)",
   "language": "python",
   "name": "python3"
  },
  "language_info": {
   "codemirror_mode": {
    "name": "ipython",
    "version": 3
   },
   "file_extension": ".py",
   "mimetype": "text/x-python",
   "name": "python",
   "nbconvert_exporter": "python",
   "pygments_lexer": "ipython3",
   "version": "3.11.4"
  }
 },
 "nbformat": 4,
 "nbformat_minor": 5
}
